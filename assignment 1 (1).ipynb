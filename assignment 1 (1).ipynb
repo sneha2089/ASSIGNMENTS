{
 "cells": [
  {
   "cell_type": "code",
   "execution_count": 35,
   "metadata": {},
   "outputs": [
    {
     "name": "stdout",
     "output_type": "stream",
     "text": [
      "Result is: 0.26785714285714285\n"
     ]
    }
   ],
   "source": [
    "x=5\n",
    "y=(2*x+5)/(x**2+5*x+6)\n",
    "print(\"Result is:\",y)"
   ]
  },
  {
   "cell_type": "code",
   "execution_count": 33,
   "metadata": {},
   "outputs": [
    {
     "name": "stdout",
     "output_type": "stream",
     "text": [
      "Result is: 3.7333333333333334\n"
     ]
    }
   ],
   "source": [
    "x=5\n",
    "y=(x**2+5*x+6)/(2*x+5)\n",
    "print(\"Result is:\",y)"
   ]
  },
  {
   "cell_type": "code",
   "execution_count": 34,
   "metadata": {},
   "outputs": [
    {
     "name": "stdout",
     "output_type": "stream",
     "text": [
      "Result is: 98\n"
     ]
    }
   ],
   "source": [
    "x=5\n",
    "y=(2*x-3)*(x+9)\n",
    "print(\"Result is:\",y)"
   ]
  },
  {
   "cell_type": "code",
   "execution_count": null,
   "metadata": {},
   "outputs": [],
   "source": [
    "attempts=0\n",
    "while attempts<5:\n",
    "    username=input('ENTER YOUR USERNAME:')\n",
    "    password=input('ENTER YOUR PASSWORD:')\n",
    "    if username=='INDIA'and password=='IND':\n",
    "        print('SUCCESSFULLY GRANTED')\n",
    "    else:\n",
    "        attempts+=1\n",
    "        print('INCORRECT PASSWORD')\n",
    "        if attempts==5:\n",
    "            print('TOO MANY ATTEMPTS , YOUR CARD HAS BEEN BLOCKED FOR 24 HOURS.')"
   ]
  },
  {
   "cell_type": "code",
   "execution_count": null,
   "metadata": {},
   "outputs": [],
   "source": []
  }
 ],
 "metadata": {
  "kernelspec": {
   "display_name": "Python 3",
   "language": "python",
   "name": "python3"
  },
  "language_info": {
   "codemirror_mode": {
    "name": "ipython",
    "version": 3
   },
   "file_extension": ".py",
   "mimetype": "text/x-python",
   "name": "python",
   "nbconvert_exporter": "python",
   "pygments_lexer": "ipython3",
   "version": "3.8.5"
  }
 },
 "nbformat": 4,
 "nbformat_minor": 4
}
