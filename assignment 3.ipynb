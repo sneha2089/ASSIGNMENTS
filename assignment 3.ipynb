{
 "cells": [
  {
   "cell_type": "code",
   "execution_count": 22,
   "metadata": {},
   "outputs": [
    {
     "name": "stdout",
     "output_type": "stream",
     "text": [
      " largest number is : c \n",
      "\n",
      "None\n"
     ]
    }
   ],
   "source": [
    "#find the Max of three numbers.\n",
    "\n",
    "def maximum(a, b, c): \n",
    "  \n",
    "    if (a >= b) and (a >= c): \n",
    "         print(\" largest number is : a \") \n",
    "  \n",
    "    elif (b >= a) and (b >= c): \n",
    "        print(\" largest number is : b \") \n",
    "    else: \n",
    "        print(\" largest number is : c \") \n",
    "        \n",
    "    return print()\n",
    "\n",
    "a=25\n",
    "b=12\n",
    "c=32 \n",
    "print(maximum(a, b, c)) \n"
   ]
  },
  {
   "cell_type": "code",
   "execution_count": 26,
   "metadata": {},
   "outputs": [
    {
     "name": "stdout",
     "output_type": "stream",
     "text": [
      "Enter the string: madam\n",
      "This is a palindrome string.\n"
     ]
    }
   ],
   "source": [
    "#program that checks whether a passed string is palindrome or not\n",
    "str1=input(\"Enter the string: \")\n",
    "str2=str1[-1::-1]\n",
    "if (str1==str2):\n",
    "    print(\"This is a palindrome string.\")\n",
    "else:\n",
    "    print(\"This is not a palindrome string.\")"
   ]
  },
  {
   "cell_type": "code",
   "execution_count": 27,
   "metadata": {},
   "outputs": [
    {
     "name": "stdout",
     "output_type": "stream",
     "text": [
      "Total number of Lower case letters:  19\n",
      "Total number of Upper case letters:  3\n"
     ]
    }
   ],
   "source": [
    "#function that accepts a string and calculate the number of uppercase letters & lower case letters\n",
    "string= \"This is the Python Session.\"\n",
    "lower=0\n",
    "upper=0\n",
    "for i in string: \n",
    "    if (i>='a'and i<='z'): \n",
    "          \n",
    "        lower=lower+1 \n",
    "        \n",
    "    if (i>='A'and i<='Z'): \n",
    "          \n",
    "        upper=upper+1   \n",
    "          \n",
    "print('Total number of Lower case letters: ',lower) \n",
    "print('Total number of Upper case letters: ',upper)"
   ]
  },
  {
   "cell_type": "code",
   "execution_count": 31,
   "metadata": {},
   "outputs": [
    {
     "name": "stdout",
     "output_type": "stream",
     "text": [
      "99\n"
     ]
    }
   ],
   "source": [
    "#sum all the numbers in a list\n",
    "def sum(numbers):\n",
    "    list= 0\n",
    "    for x in numbers:\n",
    "        list += x\n",
    "    return list\n",
    "print(sum((10,9,8,12,15,4,21,20)))\n"
   ]
  },
  {
   "cell_type": "code",
   "execution_count": 36,
   "metadata": {},
   "outputs": [
    {
     "name": "stdout",
     "output_type": "stream",
     "text": [
      "17280\n"
     ]
    }
   ],
   "source": [
    "#multiply all the numbers in a list\n",
    "def multiply(numbers):  \n",
    "    list = 1\n",
    "    for x in numbers:\n",
    "        list *= x  \n",
    "    return list  \n",
    "print(multiply((5,2,1,6,3,4,2,3,1,4)))"
   ]
  },
  {
   "cell_type": "code",
   "execution_count": 47,
   "metadata": {},
   "outputs": [
    {
     "name": "stdout",
     "output_type": "stream",
     "text": [
      "The unique elements from 1st list is\n",
      "[12 15 20 30 32]\n",
      "\n",
      " The unique elements from 2nd list is\n",
      "[1 2 4 7 8 9]\n"
     ]
    }
   ],
   "source": [
    "#function that takes a list and returns a new list with unique elements of the first list\n",
    "import numpy as np \n",
    "  \n",
    "def unique(list): \n",
    "    x = np.array(list) \n",
    "    print(np.unique(x)) \n",
    "      \n",
    "list1 = [20,12,15,30,32,12,20] \n",
    "print(\"The unique elements from 1st list is\")\n",
    "unique(list1)\n",
    "  \n",
    "list2 =[9,4,8,7,2,9,1,2,7] \n",
    "print(\"\\n The unique elements from 2nd list is\") \n",
    "unique(list2) "
   ]
  },
  {
   "cell_type": "code",
   "execution_count": null,
   "metadata": {},
   "outputs": [],
   "source": []
  }
 ],
 "metadata": {
  "kernelspec": {
   "display_name": "Python 3",
   "language": "python",
   "name": "python3"
  },
  "language_info": {
   "codemirror_mode": {
    "name": "ipython",
    "version": 3
   },
   "file_extension": ".py",
   "mimetype": "text/x-python",
   "name": "python",
   "nbconvert_exporter": "python",
   "pygments_lexer": "ipython3",
   "version": "3.8.5"
  }
 },
 "nbformat": 4,
 "nbformat_minor": 4
}
