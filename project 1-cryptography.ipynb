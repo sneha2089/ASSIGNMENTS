{
 "cells": [
  {
   "cell_type": "code",
   "execution_count": 30,
   "metadata": {},
   "outputs": [
    {
     "name": "stdout",
     "output_type": "stream",
     "text": [
      "Collecting onetimepadNote: you may need to restart the kernel to use updated packages.\n",
      "  Downloading onetimepad-1.4.tar.gz (3.3 kB)\n",
      "Building wheels for collected packages: onetimepad\n",
      "  Building wheel for onetimepad (setup.py): started\n",
      "  Building wheel for onetimepad (setup.py): finished with status 'done'\n",
      "  Created wheel for onetimepad: filename=onetimepad-1.4-py3-none-any.whl size=3904 sha256=d54cae34c9394e7d0922916f83d6f01400d2f235d43ca4a03f1bf2cfd736944c\n",
      "  Stored in directory: c:\\users\\abc\\appdata\\local\\pip\\cache\\wheels\\64\\1b\\26\\414127c44690b5adf2378ea1912fd1465cb89695669125909c\n",
      "Successfully built onetimepad\n",
      "Installing collected packages: onetimepad\n",
      "Successfully installed onetimepad-1.4\n",
      "\n"
     ]
    }
   ],
   "source": [
    "\n",
    "pip install onetimepad"
   ]
  },
  {
   "cell_type": "code",
   "execution_count": 31,
   "metadata": {},
   "outputs": [],
   "source": []
  },
  {
   "cell_type": "code",
   "execution_count": null,
   "metadata": {},
   "outputs": [],
   "source": [
    "#CRYPTOGRAPHY APP \n",
    "\n",
    "import onetimepad\n",
    "from tkinter import * \n",
    "\n",
    "#import tkinter \n",
    "\n",
    "root = Tk() \n",
    "\n",
    "\n",
    "root.title(\"CRYPTOGRAPHY APP\") \n",
    "def encryptMessage():\n",
    "    a=var.get()\n",
    "    ct=onetimepad.encrypt(a,\"Random\")\n",
    "    print(\"working\",ct)\n",
    "    e2.delete(0,END)\n",
    "    e2.insert(END,ct)\n",
    "\n",
    "l1=Label(root,text=\"Plain Text\")\n",
    "l1.grid(row=0,column=0) \n",
    "\n",
    "l3=Label(root,text=\"Encrypted Text\")\n",
    "l3.grid(row=0,column=2)\n",
    "\n",
    "\n",
    "var=StringVar()\n",
    "e1=Entry(root,textvariable=var)\n",
    "e1.grid(row=0,column=1)\n",
    "\n",
    "var2=StringVar()\n",
    "e3=Entry(root,textvariable=var2)\n",
    "e3.grid(row=0,column=3)\n",
    "\n",
    "def decryptMessage():\n",
    "    a=var2.get()\n",
    "    ct=onetimepad.decrypt(a,\"Random\")\n",
    "    print(\"working\",ct)\n",
    "    e4.delete(0,END)\n",
    "    e4.insert(END,ct)\n",
    "\n",
    "l2=Label(root,text=\"Encrypted Text\")\n",
    "l2.grid(row=1,column=0)\n",
    "\n",
    "l4=Label(root,text=\"Plain Text\")\n",
    "l4.grid(row=1,column=2) \n",
    "\n",
    "\n",
    "e2=Entry(root)\n",
    "e2.grid(row=1,column=1)\n",
    "\n",
    "e4=Entry(root)\n",
    "e4.grid(row=1,column=3)\n",
    "\n",
    "b1=Button(root,text=\"Encryption\",bg=\"yellow\",fg=\"red\",command=encryptMessage)\n",
    "b1.grid(row=2,column=1)\n",
    "\n",
    "b2=Button(root,text=\"Decryption\",bg=\"yellow\",fg=\"red\",command=decryptMessage)\n",
    "b2.grid(row=2,column=3)\n",
    "\n",
    "\n",
    "root.mainloop() \n"
   ]
  },
  {
   "cell_type": "code",
   "execution_count": null,
   "metadata": {},
   "outputs": [],
   "source": []
  },
  {
   "cell_type": "code",
   "execution_count": null,
   "metadata": {},
   "outputs": [],
   "source": []
  }
 ],
 "metadata": {
  "kernelspec": {
   "display_name": "Python 3",
   "language": "python",
   "name": "python3"
  },
  "language_info": {
   "codemirror_mode": {
    "name": "ipython",
    "version": 3
   },
   "file_extension": ".py",
   "mimetype": "text/x-python",
   "name": "python",
   "nbconvert_exporter": "python",
   "pygments_lexer": "ipython3",
   "version": "3.8.5"
  }
 },
 "nbformat": 4,
 "nbformat_minor": 4
}
