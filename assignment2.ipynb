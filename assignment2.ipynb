{
 "cells": [
  {
   "cell_type": "code",
   "execution_count": 39,
   "metadata": {},
   "outputs": [
    {
     "name": "stdout",
     "output_type": "stream",
     "text": [
      "[5, 2, 8, 1, 3, 7]\n"
     ]
    }
   ],
   "source": [
    "#remove duplicates from list\n",
    "def Remove(dup):\n",
    "    final_list = []\n",
    "    for num in dup:\n",
    "        if num not in final_list:\n",
    "            final_list.append(num)\n",
    "    return final_list\n",
    "     \n",
    "\n",
    "dup = [5,2,8,1,2,3,7,8,3,1]\n",
    "print(Remove(dup))"
   ]
  },
  {
   "cell_type": "code",
   "execution_count": 2,
   "metadata": {},
   "outputs": [
    {
     "name": "stdout",
     "output_type": "stream",
     "text": [
      "Enter the size of list:7\n",
      "Enter 7 element\n",
      "05\n",
      "14\n",
      "25\n",
      "32\n",
      "49\n",
      "55\n",
      "61\n",
      "the list is [5, 4, 5, 2, 9, 5, 1]\n",
      "Enter the elements to count:5\n",
      "5 occured 3 times\n"
     ]
    }
   ],
   "source": [
    "#frequency of elements in list\n",
    "L=[]\n",
    "size=int(input(\"Enter the size of list:\"))\n",
    "print(\"Enter\",size,\"element\")\n",
    "for i in range(size):\n",
    "    ele=int(input(i))\n",
    "    L.append(ele)\n",
    "print(\"the list is\",L)\n",
    "ele1=int(input(\"Enter the elements to count:\"))\n",
    "print(ele1,\"occured\",L.count(ele1),\"times\")"
   ]
  },
  {
   "cell_type": "code",
   "execution_count": 4,
   "metadata": {},
   "outputs": [
    {
     "name": "stdout",
     "output_type": "stream",
     "text": [
      "[8, 1, 4, 7]\n"
     ]
    }
   ],
   "source": [
    "#difference between two list\n",
    "l1=[1,2,4,8,5,7,6]\n",
    "l2=[5,6,2,3,9]\n",
    "def Diff(l1,l2):\n",
    "    return list(set(l1)-set(l2))\n",
    "final=Diff(l1,l2)\n",
    "print(final)"
   ]
  },
  {
   "cell_type": "code",
   "execution_count": 9,
   "metadata": {},
   "outputs": [
    {
     "name": "stdout",
     "output_type": "stream",
     "text": [
      "c1-c2:  ['red', 'orange', 'white']\n",
      "c2-c1:  ['black', 'yellow']\n"
     ]
    }
   ],
   "source": [
    "#compute similarity between two lists\n",
    "from collections import Counter\n",
    "c1=[\"red\",\"orange\",\"green\",\"blue\",\"white\"]\n",
    "c2=[\"black\",\"yellow\",\"green\",\"blue\"]\n",
    "counter1=Counter(c1)\n",
    "counter2=Counter(c2)\n",
    "print(\"c1-c2: \",list(counter1-counter2))\n",
    "print(\"c2-c1: \",list(counter2-counter1))\n"
   ]
  },
  {
   "cell_type": "code",
   "execution_count": 24,
   "metadata": {},
   "outputs": [
    {
     "name": "stdout",
     "output_type": "stream",
     "text": [
      "\n",
      " The word with the longest length is:  program\n",
      " The length of the longest word is:  7\n"
     ]
    }
   ],
   "source": [
    "#function that takes a list of words and return length of longest\n",
    "def longest_word(a):\n",
    "    L = []\n",
    "    for n in a:\n",
    "        L.append((len(n), n))\n",
    "    L.sort()\n",
    "    return L[-1][0], L[-1][1]\n",
    "result = longest_word([\"this\", \"is\", \"python\", \"program\"])\n",
    "print(\"\\n The word with the longest length is: \",result[1])\n",
    "print(\" The length of the longest word is: \",result[0])"
   ]
  },
  {
   "cell_type": "code",
   "execution_count": 29,
   "metadata": {},
   "outputs": [
    {
     "name": "stdout",
     "output_type": "stream",
     "text": [
      "{'I': 2, 'am': 2, 'programmer.': 1, 'practicing': 1, 'python.': 1}\n"
     ]
    }
   ],
   "source": [
    "#count the occurence of each words in sentence\n",
    "def word_count(str):\n",
    "    counts = dict()\n",
    "    w = str.split()\n",
    "\n",
    "    for wd in w:\n",
    "        if wd in counts:\n",
    "            counts[wd] += 1\n",
    "        else:\n",
    "            counts[wd] = 1\n",
    "\n",
    "    return counts\n",
    "\n",
    "print( word_count('I am programmer. I am practicing python.'))"
   ]
  },
  {
   "cell_type": "code",
   "execution_count": 30,
   "metadata": {},
   "outputs": [
    {
     "name": "stdout",
     "output_type": "stream",
     "text": [
      "Enter a string: welcome to the new world\n",
      "\n",
      "The vowels are: \n",
      "e\n",
      "o\n",
      "e\n",
      "o\n",
      "e\n",
      "e\n",
      "o\n",
      "And there are 7 vowels.\n"
     ]
    }
   ],
   "source": [
    "# count and display the vowels of a given text\n",
    "n = input(\"Enter a string: \")\n",
    "\n",
    "count = 0\n",
    "\n",
    "print()\n",
    "\n",
    "print(\"The vowels are: \")\n",
    "\n",
    "for i in n:\n",
    "\n",
    " if i in \"AaEeIiOoUu\":\n",
    "\n",
    "   print(i)\n",
    "\n",
    "   count = count + 1\n",
    "\n",
    "print(\"There are\", count, \"vowels.\")\n",
    "\n"
   ]
  },
  {
   "cell_type": "code",
   "execution_count": 34,
   "metadata": {},
   "outputs": [
    {
     "name": "stdout",
     "output_type": "stream",
     "text": [
      "Input a number:  20\n",
      "\n",
      " Dictionary of the input is = {1: 1, 2: 4, 3: 9, 4: 16, 5: 25, 6: 36, 7: 49, 8: 64, 9: 81, 10: 100, 11: 121, 12: 144, 13: 169, 14: 196, 15: 225, 16: 256, 17: 289, 18: 324, 19: 361, 20: 400}\n"
     ]
    }
   ],
   "source": [
    "#Write a Python script to generate and print a dictionary that contains a number (between 1 and n)in the form (x, x*x)\n",
    "num=int(input(\"Input a number:  \"))\n",
    "d = dict()\n",
    "\n",
    "for x in range(1,num+1):\n",
    "    d[x]=x*x\n",
    "\n",
    "print(\"\\n Dictionary of the input is =\" , d) "
   ]
  },
  {
   "cell_type": "code",
   "execution_count": 36,
   "metadata": {},
   "outputs": [
    {
     "name": "stdout",
     "output_type": "stream",
     "text": [
      "Counter({'a': 400, 'b': 400, 'd': 400, 'c': 300})\n"
     ]
    }
   ],
   "source": [
    "#program to combine two dictionary adding values for common keys\n",
    "from collections import Counter\n",
    "dict1 = {'a': 100, 'b': 200, 'c':300}\n",
    "dict2 = {'a': 300, 'b': 200, 'd':400}\n",
    "dict = Counter(dict1) + Counter(dict2)\n",
    "print(dict)\n"
   ]
  },
  {
   "cell_type": "code",
   "execution_count": 38,
   "metadata": {},
   "outputs": [
    {
     "name": "stdout",
     "output_type": "stream",
     "text": [
      "Original List:  [{'V': 'S001'}, {'V': 'S002'}, {'VI': 'S001'}, {'VI': 'S005'}, {'VII': 'S005'}, {'V': 'S009'}, {'VIII': 'S007'}]\n",
      "Unique Values:  {'S001', 'S005', 'S002', 'S007', 'S009'}\n"
     ]
    }
   ],
   "source": [
    "#program to print all unique values in a dictionary\n",
    "dict_list= [{\"V\":\"S001\"}, {\"V\": \"S002\"}, {\"VI\": \"S001\"}, {\"VI\": \"S005\"}, {\"VII\":\"S005\"}, {\"V\":\"S009\"},{\"VIII\":\"S007\"}]\n",
    "print(\"Original List: \", dict_list)\n",
    "uniq_value = set( val for dic in dict_list for val in dic.values())\n",
    "print(\"Unique Values: \",uniq_value)"
   ]
  },
  {
   "cell_type": "code",
   "execution_count": null,
   "metadata": {},
   "outputs": [],
   "source": []
  }
 ],
 "metadata": {
  "kernelspec": {
   "display_name": "Python 3",
   "language": "python",
   "name": "python3"
  },
  "language_info": {
   "codemirror_mode": {
    "name": "ipython",
    "version": 3
   },
   "file_extension": ".py",
   "mimetype": "text/x-python",
   "name": "python",
   "nbconvert_exporter": "python",
   "pygments_lexer": "ipython3",
   "version": "3.8.5"
  }
 },
 "nbformat": 4,
 "nbformat_minor": 4
}
